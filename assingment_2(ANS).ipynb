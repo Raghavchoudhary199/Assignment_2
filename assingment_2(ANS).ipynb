{
 "cells": [
  {
   "cell_type": "code",
   "execution_count": null,
   "id": "e37c8362",
   "metadata": {},
   "outputs": [],
   "source": [
    "# Q1. How do you comment code in Python? What are the different types of comments?\n",
    "#  Answer: in python two types of comment are avlaible:\n",
    "#         1) single line comment : for this we add \"#\" befor starting comment line and shorcut key is \"ctrl + /\" and go to jyptuer notebook tool bar choose markdown obtion in place of code \n",
    "#         2) multi line comment : for this we add \"\"\" and ''' befor  starting comment and after completion of comment line."
   ]
  },
  {
   "cell_type": "code",
   "execution_count": 1,
   "id": "c7413a81",
   "metadata": {},
   "outputs": [
    {
     "name": "stdout",
     "output_type": "stream",
     "text": [
      "enter integer value5\n",
      "<class 'int'>\n",
      "enter float value6\n",
      "<class 'float'>\n",
      "<class 'str'>\n",
      "<class 'bool'>\n",
      "<class 'list'>\n",
      "<class 'tuple'>\n",
      "<class 'set'>\n",
      "<class 'dict'>\n"
     ]
    }
   ],
   "source": [
    "# Q2. What are variables in Python? How do you declare and assign values to variables?\n",
    "\n",
    "# Answer: variables in python: variable is containers to storing data \n",
    "# variable name may be short and long but it have to \n",
    "# follow the some rules which is called variable asssigning rules\n",
    "\n",
    "# declaring and assign values in python:\n",
    "#     A variable name must start with a letter or the underscore character never start with number\n",
    "#     A variable name can only contain alpha-numeric characters and underscores (A-z, 0-9, and _ )\n",
    "#     Variable names are case-sensitive (name, Name and NAME are three different variables)\n",
    "#     A variable name cannot be any of the Python keywords.\n",
    "\n",
    "# FOR EXAMPLE:\n",
    "#         1)integer\n",
    "a_int = int(input('enter integer value'))\n",
    "print(type(a_int))  \n",
    "\n",
    "#         2)float\n",
    "b_float = float(input('enter float value'))\n",
    "print(type(b_float))\n",
    "    \n",
    "#         3)string\n",
    "c_str = \"write any string\"\n",
    "print(type(c_str))\n",
    "    \n",
    "#         4)boolean\n",
    "d_bool = True\n",
    "print(type(d_bool))\n",
    "    \n",
    "#         4)list\n",
    "e_list = [1,2,3,4,\"raghav\",\"chaudhary\",(2,3,4)]\n",
    "print(type(e_list))\n",
    "    \n",
    "#         5)tuple\n",
    "f_tuple= (3,4,8)\n",
    "print(type(f_tuple))\n",
    "    \n",
    "#         6)set\n",
    "g_set = {3,5,7,0}\n",
    "print(type(g_set))\n",
    "    \n",
    "#         7)dictionary\n",
    "h_dict = {'key':\"raghav\"}\n",
    "print(type(h_dict))\n"
   ]
  },
  {
   "cell_type": "code",
   "execution_count": 29,
   "id": "62f6676e",
   "metadata": {},
   "outputs": [
    {
     "name": "stdout",
     "output_type": "stream",
     "text": [
      "5.0\n",
      "5.7\n",
      "['R', 'a', 'g', 'h', 'a', 'v']\n",
      "(1, 2, 4, 5, 'raghav', 'chaudhary', (1, 2, 3))\n",
      "{1, 2, 3, 4}\n",
      "{'Name': 'Raghav', 'surname': 'Chaudhary'}\n"
     ]
    }
   ],
   "source": [
    "# Q3. How do you convert one data type to another in Python?\n",
    "\n",
    "\n",
    "# Answer: data types is a important concepts, each data types having diffrent chracteristics\n",
    "# so we need to conert one data types into another data types it is called as type casting\n",
    "# some of the example of data types are such that: int, string, float boolean these are primitive\n",
    "# data types list\n",
    "\n",
    "\n",
    "# Converting integer to float\n",
    "a_int = 5\n",
    "convert_float = float(a_int)\n",
    "print(convert_float)\n",
    "\n",
    "# Converting float to string\n",
    "b_float = 5.7\n",
    "convert_str = str(b_float)\n",
    "print(convert_str)\n",
    "\n",
    "# Converting string to list\n",
    "c_string = \"Raghav\"\n",
    "convert_list = list(c_string)\n",
    "print(convert_list)\n",
    "\n",
    "# Converting list to tuple\n",
    "d_list = [1,2,4,5,\"raghav\",\"chaudhary\",(1,2,3)]\n",
    "convert_tuple = tuple(d_list)\n",
    "print(convert_tuple)\n",
    "\n",
    "# Converting tuple to set\n",
    "e_tuple = (1,2,3,4)\n",
    "convert_set = set(e_tuple)\n",
    "print(convert_set)\n",
    "\n",
    "# Converting set to dictionary\n",
    "f_list = [('Name',\"Raghav\"),('surname',\"Chaudhary\")]\n",
    "convert_dict = dict(f_list)\n",
    "print(convert_dict)"
   ]
  },
  {
   "cell_type": "code",
   "execution_count": 2,
   "id": "3f96c67a",
   "metadata": {},
   "outputs": [],
   "source": [
    "# Q4. How do you write and execute a Python script from the command line?\n",
    "#  Answer:\n",
    "# firstly you write the code in any notebook or text editor then save those file with the extention of .py . \n",
    "# now open out command prompt at fistly switch pc/laptop file loctaion to our file location where i can save our .py file by using \n",
    "# this syntax : \"cd C:\\Users\\Hp\\Desktop\" in this i got to desktop.\n",
    "# now we just call the name of .py file in command prompt and press enter and you got output of .py file"
   ]
  },
  {
   "cell_type": "code",
   "execution_count": 2,
   "id": "6afcf847",
   "metadata": {},
   "outputs": [
    {
     "name": "stdout",
     "output_type": "stream",
     "text": [
      "[2, 3]\n"
     ]
    }
   ],
   "source": [
    "# Q5. Given a list my_list = [1, 2, 3, 4, 5], write the code to slice the list and obtain the sub-list [2, 3]\n",
    "# Answer:\n",
    "my_list = [1, 2, 3, 4, 5]\n",
    "print(my_list[1:3])"
   ]
  },
  {
   "cell_type": "code",
   "execution_count": 3,
   "id": "a25414cb",
   "metadata": {},
   "outputs": [
    {
     "data": {
      "text/plain": [
       "complex"
      ]
     },
     "execution_count": 3,
     "metadata": {},
     "output_type": "execute_result"
    }
   ],
   "source": [
    "# Q6. What is a complex number in mathematics, and how is it represented in Python?\n",
    "# Answer:\n",
    "# complex number is a sum of real number and imaginary number\n",
    "# in mathematics iamginary number is represented by iota sign that i\n",
    "# a=3+4i\n",
    "# in python complex is represented by \n",
    "# a=3+4j\n",
    "# imaginary number is represened by j\n",
    "\n",
    "a=3+4j\n",
    "type(a)"
   ]
  },
  {
   "cell_type": "code",
   "execution_count": 4,
   "id": "42d15ff8",
   "metadata": {},
   "outputs": [
    {
     "data": {
      "text/plain": [
       "25"
      ]
     },
     "execution_count": 4,
     "metadata": {},
     "output_type": "execute_result"
    }
   ],
   "source": [
    "# Q7. What is the correct way to declare a variable named age and assign the value 25 to it?\n",
    "# Answer:\n",
    "age = int(25)\n",
    "age"
   ]
  },
  {
   "cell_type": "code",
   "execution_count": 5,
   "id": "e2207db5",
   "metadata": {},
   "outputs": [
    {
     "data": {
      "text/plain": [
       "float"
      ]
     },
     "execution_count": 5,
     "metadata": {},
     "output_type": "execute_result"
    }
   ],
   "source": [
    "# Q8. Declare a variable named price and assign the value 9.99 to it. What data type does this variable  belong to?\n",
    "# Answer:\n",
    "price=9.99\n",
    "type(price)"
   ]
  },
  {
   "cell_type": "code",
   "execution_count": 6,
   "id": "fc432e0d",
   "metadata": {},
   "outputs": [
    {
     "name": "stdout",
     "output_type": "stream",
     "text": [
      "raghav choudhary\n"
     ]
    }
   ],
   "source": [
    "# Q9. Create a variable named name and assign your full name to it as a string. How would you print the value of this variable?\n",
    "# Answer:\n",
    "name=str(\"raghav choudhary\")\n",
    "print(name)"
   ]
  },
  {
   "cell_type": "code",
   "execution_count": 7,
   "id": "f15d4634",
   "metadata": {},
   "outputs": [
    {
     "data": {
      "text/plain": [
       "'World'"
      ]
     },
     "execution_count": 7,
     "metadata": {},
     "output_type": "execute_result"
    }
   ],
   "source": [
    "# Q10. Given the string \"Hello, World!\", extract the substring \"World\".\n",
    "# Answer:\n",
    "a=\"Hello World\"\n",
    "b=a[6:len(a)]\n",
    "b"
   ]
  },
  {
   "cell_type": "code",
   "execution_count": 29,
   "id": "a4679703",
   "metadata": {},
   "outputs": [
    {
     "name": "stdout",
     "output_type": "stream",
     "text": [
      "You are currently a student.\n"
     ]
    }
   ],
   "source": [
    "# Q11. Create a variable named \"is_student\" and assign it a boolean value indicating whether you are  currently a student or not\n",
    "# Answer:\n",
    "is_student = True\n",
    "if is_student:\n",
    "    print(\"You are currently a student.\")\n",
    "else:\n",
    "    print(\"You are not a student.\")"
   ]
  },
  {
   "cell_type": "code",
   "execution_count": null,
   "id": "239598fe",
   "metadata": {},
   "outputs": [],
   "source": []
  }
 ],
 "metadata": {
  "kernelspec": {
   "display_name": "Python 3 (ipykernel)",
   "language": "python",
   "name": "python3"
  },
  "language_info": {
   "codemirror_mode": {
    "name": "ipython",
    "version": 3
   },
   "file_extension": ".py",
   "mimetype": "text/x-python",
   "name": "python",
   "nbconvert_exporter": "python",
   "pygments_lexer": "ipython3",
   "version": "3.10.9"
  }
 },
 "nbformat": 4,
 "nbformat_minor": 5
}
